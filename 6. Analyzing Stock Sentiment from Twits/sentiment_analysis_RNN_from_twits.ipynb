{
 "cells": [
  {
   "cell_type": "markdown",
   "metadata": {},
   "source": [
    "# Analyzing Stock Sentiment from Twits\n",
    "\n",
    "\n",
    "### Load Packages"
   ]
  },
  {
   "cell_type": "code",
   "execution_count": 1,
   "metadata": {},
   "outputs": [],
   "source": [
    "import json\n",
    "import nltk\n",
    "import os\n",
    "import random\n",
    "import re\n",
    "import torch\n",
    "import pandas as pd\n",
    "import numpy as np\n",
    "import pickle \n",
    "from tqdm import tqdm\n",
    "\n",
    "from torch import nn, optim\n",
    "import torch.nn.functional as F"
   ]
  },
  {
   "cell_type": "markdown",
   "metadata": {},
   "source": [
    "# Load pre-trained Embedding"
   ]
  },
  {
   "cell_type": "code",
   "execution_count": 2,
   "metadata": {},
   "outputs": [],
   "source": [
    "words = []\n",
    "idx = 0\n",
    "word2idx = {}\n",
    "vectors = []\n",
    "#vectors = bcolz.carray(np.zeros(1), rootdir='glove.6B.100d.txt', mode='w')\n",
    "\n",
    "with open('glove.6B.100d.txt', 'rb') as f:\n",
    "    for l in f:\n",
    "        line = l.decode().split()\n",
    "        word = line[0]\n",
    "        words.append(word)\n",
    "        word2idx[word] = idx\n",
    "        idx += 1\n",
    "        vect = np.array(line[1:]).astype(np.float)\n",
    "        vectors.append(vect)\n",
    "        \n",
    "glove = {w: vectors[word2idx[w]] for w in words}"
   ]
  },
  {
   "cell_type": "markdown",
   "metadata": {},
   "source": [
    "## Introduction\n",
    "When deciding the value of a company, it's important to follow the news. For example, a product recall or natural disaster in a company's product chain. You want to be able to turn this information into a signal. Currently, the best tool for the job is a Neural Network. \n",
    "\n",
    "For this project, you'll use posts from the social media site [StockTwits](https://en.wikipedia.org/wiki/StockTwits). The community on StockTwits is full of investors, traders, and entrepreneurs. Each message posted is called a Twit. This is similar to Twitter's version of a post, called a Tweet. You'll build a model around these twits that generate a sentiment score.\n",
    "\n",
    "We've collected a bunch of twits, then hand labeled the sentiment of each. To capture the degree of sentiment, we'll use a five-point scale: very negative, negative, neutral, positive, very positive. Each twit is labeled -2 to 2 in steps of 1, from very negative to very positive respectively. You'll build a sentiment analysis model that will learn to assign sentiment to twits on its own, using this labeled data.\n",
    "\n",
    "The first thing we should to do, is load the data.\n",
    "\n",
    "## Import Twits \n",
    "### Load Twits Data \n",
    "This JSON file contains a list of objects for each twit in the `'data'` field:\n",
    "\n",
    "```\n",
    "{'data':\n",
    "  {'message_body': 'Neutral twit body text here',\n",
    "   'sentiment': 0},\n",
    "  {'message_body': 'Happy twit body text here',\n",
    "   'sentiment': 1},\n",
    "   ...\n",
    "}\n",
    "```\n",
    "\n",
    "The fields represent the following:\n",
    "\n",
    "* `'message_body'`: The text of the twit.\n",
    "* `'sentiment'`: Sentiment score for the twit, ranges from -2 to 2 in steps of 1, with 0 being neutral.\n",
    "\n",
    "\n",
    "To see what the data look like by printing the first 10 twits from the list. "
   ]
  },
  {
   "cell_type": "code",
   "execution_count": 3,
   "metadata": {},
   "outputs": [
    {
     "name": "stdout",
     "output_type": "stream",
     "text": [
      "[{'message_body': '$FITB great buy at 26.00...ill wait', 'sentiment': 2, 'timestamp': '2018-07-01T00:00:09Z'}, {'message_body': '@StockTwits $MSFT', 'sentiment': 1, 'timestamp': '2018-07-01T00:00:42Z'}, {'message_body': '#STAAnalystAlert for $TDG : Jefferies Maintains with a rating of Hold setting target price at USD 350.00. Our own verdict is Buy  http://www.stocktargetadvisor.com/toprating', 'sentiment': 2, 'timestamp': '2018-07-01T00:01:24Z'}, {'message_body': '$AMD I heard there’s a guy who knows someone who thinks somebody knows something - on StockTwits.', 'sentiment': 1, 'timestamp': '2018-07-01T00:01:47Z'}, {'message_body': '$AMD reveal yourself!', 'sentiment': 0, 'timestamp': '2018-07-01T00:02:13Z'}, {'message_body': '$AAPL Why the drop? I warren Buffet taking out his position?', 'sentiment': 1, 'timestamp': '2018-07-01T00:03:10Z'}, {'message_body': '$BA bears have 1 reason on 06-29 to pay more attention https://dividendbot.com?s=BA', 'sentiment': -2, 'timestamp': '2018-07-01T00:04:09Z'}, {'message_body': '$BAC ok good we&#39;re not dropping in price over the weekend, lol', 'sentiment': 1, 'timestamp': '2018-07-01T00:04:17Z'}, {'message_body': '$AMAT - Daily Chart, we need to get back to above 50.', 'sentiment': 2, 'timestamp': '2018-07-01T00:08:01Z'}, {'message_body': '$GME 3% drop per week after spike... if no news in 3 months, back to 12s... if BO, then bingo... what is the odds?', 'sentiment': -2, 'timestamp': '2018-07-01T00:09:03Z'}]\n"
     ]
    }
   ],
   "source": [
    "with open(os.path.join('twits.json'), 'r') as f:\n",
    "    twits = json.load(f)\n",
    "\n",
    "print(twits['data'][:10])"
   ]
  },
  {
   "cell_type": "markdown",
   "metadata": {},
   "source": [
    "### Length of Data\n",
    "Now let's look at the number of twits in dataset. Print the number of twits below."
   ]
  },
  {
   "cell_type": "code",
   "execution_count": 5,
   "metadata": {},
   "outputs": [
    {
     "data": {
      "text/plain": [
       "[{'message_body': '$FITB great buy at 26.00...ill wait',\n",
       "  'sentiment': 2,\n",
       "  'timestamp': '2018-07-01T00:00:09Z'},\n",
       " {'message_body': '@StockTwits $MSFT',\n",
       "  'sentiment': 1,\n",
       "  'timestamp': '2018-07-01T00:00:42Z'}]"
      ]
     },
     "execution_count": 5,
     "metadata": {},
     "output_type": "execute_result"
    }
   ],
   "source": [
    "twits['data'][:2]"
   ]
  },
  {
   "cell_type": "code",
   "execution_count": 6,
   "metadata": {},
   "outputs": [
    {
     "data": {
      "text/plain": [
       "1548010"
      ]
     },
     "execution_count": 6,
     "metadata": {},
     "output_type": "execute_result"
    }
   ],
   "source": [
    "\"\"\"print out the number of twits\"\"\"\n",
    "\n",
    "# TODO Implement \n",
    "\n",
    "len(twits['data'])"
   ]
  },
  {
   "cell_type": "markdown",
   "metadata": {},
   "source": [
    "### Split Message Body and Sentiment Score"
   ]
  },
  {
   "cell_type": "code",
   "execution_count": 4,
   "metadata": {},
   "outputs": [],
   "source": [
    "messages = [twit['message_body'] for twit in twits['data']]\n",
    "# Since the sentiment scores are discrete, we'll scale the sentiments to 0 to 4 for use in our network\n",
    "sentiments = [twit['sentiment'] + 2 for twit in twits['data']]"
   ]
  },
  {
   "cell_type": "markdown",
   "metadata": {},
   "source": [
    "## Preprocessing the Data\n",
    "With our data in hand we need to preprocess our text. These twits are collected by filtering on ticker symbols where these are denoted with a leader $ symbol in the twit itself. For example,\n",
    "\n",
    "`{'message_body': 'RT @google Our annual look at the year in Google blogging (and beyond) http://t.co/sptHOAh8 $GOOG',\n",
    " 'sentiment': 0}`\n",
    "\n",
    "The ticker symbols don't provide information on the sentiment, and they are in every twit, so we should remove them. This twit also has the `@google` username, again not providing sentiment information, so we should also remove it. We also see a URL `http://t.co/sptHOAh8`. Let's remove these too.\n",
    "\n",
    "The easiest way to remove specific words or phrases is with regex using the `re` module. You can sub out specific patterns with a space:\n",
    "\n",
    "```python\n",
    "re.sub(pattern, ' ', text)\n",
    "```\n",
    "This will substitute a space with anywhere the pattern matches in the text. Later when we tokenize the text, we'll split appropriately on those spaces."
   ]
  },
  {
   "cell_type": "markdown",
   "metadata": {},
   "source": [
    "### Pre-Processing"
   ]
  },
  {
   "cell_type": "code",
   "execution_count": 2,
   "metadata": {},
   "outputs": [
    {
     "name": "stdout",
     "output_type": "stream",
     "text": [
      "[nltk_data] Downloading package wordnet to /root/nltk_data...\n",
      "[nltk_data]   Package wordnet is already up-to-date!\n"
     ]
    }
   ],
   "source": [
    "nltk.download('wordnet')\n",
    "\n",
    "\n",
    "def preprocess(message):\n",
    "    \"\"\"\n",
    "    This function takes a string as input, then performs these operations: \n",
    "        - lowercase\n",
    "        - remove URLs\n",
    "        - remove ticker symbols \n",
    "        - removes punctuation\n",
    "        - tokenize by splitting the string on whitespace \n",
    "        - removes any single character tokens\n",
    "    \n",
    "    Parameters\n",
    "    ----------\n",
    "        message : The text message to be preprocessed.\n",
    "        \n",
    "    Returns\n",
    "    -------\n",
    "        tokens: The preprocessed text into tokens.\n",
    "    \"\"\" \n",
    "    \n",
    "    # Lowercase the twit message\n",
    "    text = message.lower()\n",
    "    \n",
    "    # Replace URLs with a space in the message\n",
    "    text = re.sub(r'https?://[^\\s]+', ' ', text)\n",
    "    \n",
    "    # Replace ticker symbols with a space. The ticker symbols are any stock symbol that starts with $.\n",
    "    text = re.sub(r'\\$[a-zA-Z0-9]*', ' ', text)\n",
    "    \n",
    "    # Replace StockTwits usernames with a space. The usernames are any word that starts with @.\n",
    "    text = re.sub(r'@[a-zA-Z0-9]*', ' ', text)\n",
    "\n",
    "    # Replace everything not a letter with a space\n",
    "    text = re.sub(r'[^a-z]', ' ', text)\n",
    "\n",
    "    \n",
    "    # Tokenize by splitting the string on whitespace into a list of words\n",
    "    tokens = text.split()\n",
    "\n",
    "    # Lemmatize words using the WordNetLemmatizer. You can ignore any word that is not longer than one character.\n",
    "    wnl = nltk.stem.WordNetLemmatizer()\n",
    "    tokens = [wnl.lemmatize(w, 'v') for w in tokens if len(w)  > 1]\n",
    "    \n",
    "    return tokens"
   ]
  },
  {
   "cell_type": "markdown",
   "metadata": {},
   "source": [
    "### Preprocess All the Twits \n",
    "Now we can preprocess each of the twits in our dataset. Apply the function `preprocess` to all the twit messages."
   ]
  },
  {
   "cell_type": "code",
   "execution_count": 6,
   "metadata": {},
   "outputs": [
    {
     "name": "stderr",
     "output_type": "stream",
     "text": [
      "100%|██████████| 1548010/1548010 [02:52<00:00, 8994.47it/s] \n"
     ]
    }
   ],
   "source": [
    "tokenized = []\n",
    "for message in tqdm(messages):\n",
    "    tokenized.append(preprocess(message))"
   ]
  },
  {
   "cell_type": "code",
   "execution_count": 7,
   "metadata": {},
   "outputs": [],
   "source": [
    "with open('tokenized_ori.pickle', 'wb') as f:\n",
    "    pickle.dump(tokenized, f)"
   ]
  },
  {
   "cell_type": "code",
   "execution_count": 8,
   "metadata": {},
   "outputs": [
    {
     "data": {
      "text/plain": [
       "[['great', 'buy', 'at', 'ill', 'wait'],\n",
       " [],\n",
       " ['staanalystalert',\n",
       "  'for',\n",
       "  'jefferies',\n",
       "  'maintain',\n",
       "  'with',\n",
       "  'rat',\n",
       "  'of',\n",
       "  'hold',\n",
       "  'set',\n",
       "  'target',\n",
       "  'price',\n",
       "  'at',\n",
       "  'usd',\n",
       "  'our',\n",
       "  'own',\n",
       "  'verdict',\n",
       "  'be',\n",
       "  'buy']]"
      ]
     },
     "execution_count": 8,
     "metadata": {},
     "output_type": "execute_result"
    }
   ],
   "source": [
    "tokenized[:3]"
   ]
  },
  {
   "cell_type": "markdown",
   "metadata": {},
   "source": [
    "### Bag of Words\n",
    "Now with all of our messages tokenized, we want to create a vocabulary and count up how often each word appears in our entire corpus. Use the [`Counter`](https://docs.python.org/3.1/library/collections.html#collections.Counter) function to count up all the tokens."
   ]
  },
  {
   "cell_type": "code",
   "execution_count": 9,
   "metadata": {},
   "outputs": [],
   "source": [
    "non_empty_tokens = [idx for idx, token in enumerate(tokenized) if len(token)>0]\n",
    "tokenized = [tokenized[idx] for idx in non_empty_tokens]\n",
    "sentiments = [sentiments[idx] for idx in non_empty_tokens]"
   ]
  },
  {
   "cell_type": "code",
   "execution_count": 10,
   "metadata": {},
   "outputs": [],
   "source": [
    "from collections import Counter\n",
    "\n",
    "\"\"\"\n",
    "Create a vocabulary by using Bag of words\n",
    "\"\"\"\n",
    "\n",
    "words = [word for twit in tokenized for word in twit]\n",
    "bow = Counter(words)"
   ]
  },
  {
   "cell_type": "markdown",
   "metadata": {},
   "source": [
    "### Frequency of Words Appearing in Message\n",
    "With our vocabulary, now we'll remove some of the most common words such as 'the', 'and', 'it', etc. These words don't contribute to identifying sentiment and are really common, resulting in a lot of noise in our input. If we can filter these out, then our network should have an easier time learning.\n",
    "\n",
    "We also want to remove really rare words that show up in a only a few twits. Here you'll want to divide the count of each word by the number of messages. Then remove words that only appear in some small fraction of the messages."
   ]
  },
  {
   "cell_type": "code",
   "execution_count": 11,
   "metadata": {},
   "outputs": [
    {
     "name": "stdout",
     "output_type": "stream",
     "text": [
      "['be', 'the', 'to', 'for', 'on']\n"
     ]
    },
    {
     "data": {
      "text/plain": [
       "28956"
      ]
     },
     "execution_count": 11,
     "metadata": {},
     "output_type": "execute_result"
    }
   ],
   "source": [
    "\"\"\"\n",
    "Set the following variables:\n",
    "    freqs\n",
    "    low_cutoff\n",
    "    high_cutoff\n",
    "    K_most_common\n",
    "\"\"\"\n",
    "\n",
    "# Dictionart that contains the Frequency of words appearing in messages.\n",
    "# The key is the token and the value is the frequency of that word in the corpus.\n",
    "freqs = {key: val/len(words) for key, val in bow.items()}\n",
    "ff = [val/len(words) for key, val in bow.items()]\n",
    "# Float that is the frequency cutoff. Drop words with a frequency that is lower or equal to this number.\n",
    "low_cutoff = 2e-7\n",
    "\n",
    "# Integer that is the cut off for most common words. Drop words that are the `high_cutoff` most common words.\n",
    "high_cutoff = 5\n",
    "\n",
    "# The k most common words in the corpus. Use `high_cutoff` as the k.\n",
    "K_most_common = [word[0] for word in bow.most_common(high_cutoff)]\n",
    "\n",
    "\n",
    "filtered_words = [word for word in freqs if (freqs[word] > low_cutoff and word not in K_most_common)]\n",
    "print(K_most_common)\n",
    "len(filtered_words) "
   ]
  },
  {
   "cell_type": "markdown",
   "metadata": {},
   "source": [
    "### Updating Vocabulary by Removing Filtered Words\n",
    "Let's creat three variables that will help with our vocabulary."
   ]
  },
  {
   "cell_type": "code",
   "execution_count": 12,
   "metadata": {},
   "outputs": [
    {
     "name": "stderr",
     "output_type": "stream",
     "text": [
      "100%|██████████| 1499486/1499486 [36:48<00:00, 678.81it/s] \n"
     ]
    }
   ],
   "source": [
    "\"\"\"\n",
    "Set the following variables:\n",
    "    vocab\n",
    "    id2vocab\n",
    "    filtered\n",
    "\"\"\"\n",
    "\n",
    "# A dictionary for the `filtered_words`. The key is the word and value is an id that represents the word. \n",
    "vocab = {word: i+1 for i, word in enumerate(filtered_words)}\n",
    "# Reverse of the `vocab` dictionary. The key is word id and value is the word. \n",
    "id2vocab = {i: word for word, i in vocab.items()}\n",
    "# tokenized with the words not in `filtered_words` removed.\n",
    "filtered = []\n",
    "for token in tqdm(tokenized):\n",
    "    filtered.append([word for word in token if word in filtered_words])"
   ]
  },
  {
   "cell_type": "markdown",
   "metadata": {},
   "source": [
    "### Balancing the classes\n",
    "Let's do a few last pre-processing steps. If we look at how our twits are labeled, we'll find that 50% of them are neutral. This means that our network will be 50% accurate just by guessing 0 every single time. To help our network learn appropriately, we'll want to balance our classes.\n",
    "That is, make sure each of our different sentiment scores show up roughly as frequently in the data.\n",
    "\n",
    "What we can do here is go through each of our examples and randomly drop twits with neutral sentiment. What should be the probability we drop these twits if we want to get around 20% neutral twits starting at 50% neutral? We should also take this opportunity to remove messages with length 0."
   ]
  },
  {
   "cell_type": "code",
   "execution_count": 13,
   "metadata": {},
   "outputs": [
    {
     "name": "stderr",
     "output_type": "stream",
     "text": [
      "1499486it [00:02, 556199.92it/s]\n"
     ]
    }
   ],
   "source": [
    "balanced = {'messages': [], 'sentiments':[]}\n",
    "\n",
    "n_neutral = sum(1 for each in sentiments if each == 2)\n",
    "N_examples = len(sentiments)\n",
    "keep_prob = (N_examples - n_neutral)/4/n_neutral\n",
    "\n",
    "for idx, sentiment in tqdm(enumerate(sentiments)):\n",
    "    message = filtered[idx]\n",
    "    if len(message) == 0:\n",
    "        # skip this message because it has length zero\n",
    "        continue\n",
    "    elif sentiment != 2 or random.random() < keep_prob:\n",
    "        balanced['messages'].append(message)\n",
    "        balanced['sentiments'].append(sentiment) "
   ]
  },
  {
   "cell_type": "markdown",
   "metadata": {},
   "source": [
    "If you did it correctly, you should see the following result "
   ]
  },
  {
   "cell_type": "code",
   "execution_count": 14,
   "metadata": {},
   "outputs": [
    {
     "data": {
      "text/plain": [
       "0.19940619970705337"
      ]
     },
     "execution_count": 14,
     "metadata": {},
     "output_type": "execute_result"
    }
   ],
   "source": [
    "n_neutral = sum(1 for each in balanced['sentiments'] if each == 2)\n",
    "N_examples = len(balanced['sentiments'])\n",
    "n_neutral/N_examples"
   ]
  },
  {
   "cell_type": "markdown",
   "metadata": {},
   "source": [
    "Finally let's convert our tokens into integer ids which we can pass to the network."
   ]
  },
  {
   "cell_type": "code",
   "execution_count": 15,
   "metadata": {},
   "outputs": [],
   "source": [
    "token_ids = [[vocab[word] for word in message] for message in balanced['messages']]\n",
    "sentiments = balanced['sentiments']"
   ]
  },
  {
   "cell_type": "markdown",
   "metadata": {},
   "source": [
    "### Insert pre-trained embedding"
   ]
  },
  {
   "cell_type": "code",
   "execution_count": 32,
   "metadata": {},
   "outputs": [
    {
     "name": "stdout",
     "output_type": "stream",
     "text": [
      "match ratio is  0.793859649122807\n"
     ]
    }
   ],
   "source": [
    "matrix_len = len(filtered_words)\n",
    "weights_matrix = np.zeros((matrix_len+1, 100))\n",
    "words_found = 0\n",
    "for i, word in enumerate(filtered_words):\n",
    "    try:\n",
    "        weights_matrix[i+1] = glove[word]\n",
    "        words_found += 1\n",
    "    except:\n",
    "        weights_matrix[i+1] = np.random.normal(scale=0.6, size=(100, ))\n",
    "weights_matrix[0] = np.random.normal(scale=0.6, size=(100, ))\n",
    "print('match ratio is ', words_found/matrix_len)"
   ]
  },
  {
   "cell_type": "code",
   "execution_count": 8,
   "metadata": {},
   "outputs": [],
   "source": [
    "def create_emb_layer(weights_matrix, non_trainable=False):\n",
    "    num_embedding, embedding_dim = weights_matrix.shape\n",
    "    emb_layer = nn.Embedding(num_embedding, embedding_dim)\n",
    "    emb_layer.load_state_dict({'weight': torch.from_numpy(weights_matrix)})\n",
    "    if non_trainable:\n",
    "        emb_layer.weight.requires_grad = False\n",
    "    \n",
    "    return emb_layer, num_embedding, embedding_dim"
   ]
  },
  {
   "cell_type": "markdown",
   "metadata": {},
   "source": [
    "## Neural Network\n",
    "Now we have our vocabulary which means we can transform our tokens into ids, which are then passed to our network. So, let's define the network now!\n",
    "\n",
    "Here is a nice diagram showing the network we'd like to build: \n",
    "\n",
    "#### Embed -> RNN -> Dense -> Softmax\n",
    "### Implement the text classifier\n",
    "Before we build text classifier, if you remember from the other network that you built in  \"Sentiment Analysis with an RNN\"  exercise  - which there, the network called \" SentimentRNN\", here we named it \"TextClassifer\" - consists of three main parts: 1) init function `__init__` 2) forward pass `forward`  3) hidden state `init_hidden`. \n",
    "\n",
    "This network is pretty similar to the network you built expect in the  `forward` pass, we use softmax instead of sigmoid. The reason we are not using sigmoid is that the output of NN is not a binary. In our network, sentiment scores have 5 possible outcomes. We are looking for an outcome with the highest probability thus softmax is a better choice."
   ]
  },
  {
   "cell_type": "code",
   "execution_count": 3,
   "metadata": {},
   "outputs": [
    {
     "data": {
      "text/plain": [
       "True"
      ]
     },
     "execution_count": 3,
     "metadata": {},
     "output_type": "execute_result"
    }
   ],
   "source": [
    "train_on_gpu = torch.cuda.is_available()\n",
    "train_on_gpu"
   ]
  },
  {
   "cell_type": "code",
   "execution_count": 9,
   "metadata": {},
   "outputs": [],
   "source": [
    "class TextClassifier(nn.Module):\n",
    "    def __init__(self, vocab_size, embed_size, lstm_size, output_size, \n",
    "                 lstm_layers=1, dropout=0.2, bidirectional=True, cov1d_ch=4, kernel_size=3 ):\n",
    "        \"\"\"\n",
    "        Initialize the model by setting up the layers.\n",
    "        \n",
    "        Parameters\n",
    "        ----------\n",
    "            vocab_size : The vocabulary size.\n",
    "            embed_size : The embedding layer size.\n",
    "            lstm_size : The LSTM layer size.\n",
    "            output_size : The output size.\n",
    "            lstm_layers : The number of LSTM layers.\n",
    "            dropout : The dropout probability.\n",
    "        \"\"\"\n",
    "        \n",
    "        super().__init__()\n",
    "        self.vocab_size = vocab_size\n",
    "        self.embed_size = embed_size\n",
    "        self.lstm_size = lstm_size\n",
    "        self.output_size = output_size\n",
    "        self.lstm_layers = lstm_layers\n",
    "        self.dropout = dropout\n",
    "        self.bidirectional = bidirectional\n",
    "        \n",
    "\n",
    "        # Setup embedding layer\n",
    "        # For non-pre-trained embedding layer\n",
    "        #self.embedding = nn.Embedding(num_embeddings=self.vocab_size, embedding_dim=self.embed_size)\n",
    "        # For pre-trained embedding layer\n",
    "        self.embedding, num_embeddings, self.embed_size = create_emb_layer(weights_matrix, False)\n",
    "        \n",
    "        # Setup additional layers\n",
    "        \n",
    "        self.dropout = nn.Dropout(p=dropout)\n",
    "      \n",
    "        self.gru = nn.GRU(input_size=self.embed_size, hidden_size=self.lstm_size,\n",
    "                          num_layers=self.lstm_layers, batch_first=False, bidirectional=self.bidirectional)\n",
    "        \n",
    "        if self.bidirectional:\n",
    "            self.fc = nn.Linear(self.lstm_size*2, self.output_size)\n",
    "            self.bn = nn.BatchNorm1d(self.lstm_size*2)\n",
    "        else:\n",
    "            self.fc = nn.Linear(  self.lstm_size, self.output_size)\n",
    "            self.bn = nn.BatchNorm1d( self.lstm_size)\n",
    "        self.log_softmax = nn.LogSoftmax(dim=1)\n",
    "        \n",
    "\n",
    "\n",
    "    def init_hidden(self, batch_size):\n",
    "        \"\"\" \n",
    "        Initializes hidden state\n",
    "        \n",
    "        Parameters\n",
    "        ----------\n",
    "            batch_size : The size of batches.\n",
    "        \n",
    "        Returns\n",
    "        -------\n",
    "            hidden_state\n",
    "            \n",
    "        \"\"\"\n",
    "        \n",
    "        # Createnew tensors with sizes n_layers x batch_size x hidden_dim,\n",
    "        # initialized to zero, for hidden state and cell state of LSTM\n",
    "        weight = next(self.parameters()).data\n",
    "        if train_on_gpu:\n",
    "            if self.bidirectional:\n",
    "                hidden = weight.new(self.lstm_layers*2, batch_size, self.lstm_size).zero_().cuda()\n",
    "            else:\n",
    "                hidden = weight.new(self.lstm_layers, batch_size, self.lstm_size).zero_().cuda()\n",
    "        else:\n",
    "            if self.bidirectional:\n",
    "                hidden = weight.new(self.lstm_layers*2, batch_size, self.lstm_size).zero_()\n",
    "            else:\n",
    "                hidden = weight.new(self.lstm_layers, batch_size, self.lstm_size).zero_()\n",
    "        \n",
    "        return hidden\n",
    "\n",
    "\n",
    "    def forward(self, nn_input, hidden_state):\n",
    "        \"\"\"\n",
    "        Perform a forward pass of our model on nn_input.\n",
    "        \n",
    "        Parameters\n",
    "        ----------\n",
    "            nn_input : The batch of input to the NN.\n",
    "            hidden_state : The LSTM hidden state.\n",
    "\n",
    "        Returns\n",
    "        -------\n",
    "            logps: log softmax output\n",
    "            hidden_state: The new hidden state.\n",
    "\n",
    "        \"\"\"\n",
    "        embeds = self.embedding(nn_input)\n",
    "        \n",
    "        gru_out, hidden = self.gru(embeds, hidden_state)\n",
    "        if self.bidirectional:\n",
    "            out = gru_out[-1].contiguous().view(-1, self.lstm_size*2)\n",
    "        else:\n",
    "            gru_out = gru_out[-1]\n",
    "            out = gru_out.contiguous().view(-1, self.lstm_size)\n",
    "            \n",
    "        out = self.fc(out)\n",
    "        out = self.log_softmax(out)\n",
    "        \n",
    "        return out, hidden"
   ]
  },
  {
   "cell_type": "markdown",
   "metadata": {},
   "source": [
    "### Test Model"
   ]
  },
  {
   "cell_type": "code",
   "execution_count": 10,
   "metadata": {},
   "outputs": [
    {
     "name": "stdout",
     "output_type": "stream",
     "text": [
      "tensor([[-2.3316, -1.5958, -1.5843, -1.3258, -1.4721],\n",
      "        [-2.3609, -1.6422, -1.6177, -1.4544, -1.2722],\n",
      "        [-1.7790, -1.5578, -1.4155, -1.6782, -1.6551],\n",
      "        [-2.5797, -1.5023, -1.8507, -1.6051, -1.0683]], device='cuda:0')\n"
     ]
    }
   ],
   "source": [
    "inputs = torch.randint(0, 1000, (5, 4), dtype=torch.int64)\n",
    "seq_length, batch_size = inputs.size()\n",
    "model = TextClassifier(len(vocab), 10, 6, 5, dropout=0.1, lstm_layers=1, bidirectional=False)\n",
    "model.embedding.weight.data.uniform_(-1, 1)\n",
    "\n",
    "hidden = model.init_hidden(4).data\n",
    "if train_on_gpu:\n",
    "    model = model.cuda()\n",
    "    hidden = hidden.cuda()\n",
    "    inputs = inputs.cuda()\n",
    "\n",
    "logps, _ = model(inputs, hidden)\n",
    "print(logps)"
   ]
  },
  {
   "cell_type": "markdown",
   "metadata": {},
   "source": [
    "## Training\n",
    "### DataLoaders and Batching\n",
    "Now we should build a generator that we can use to loop through our data. It'll be more efficient if we can pass our sequences in as batches. Our input tensors should look like `(sequence_length, batch_size)`. So if our sequences are 40 tokens long and we pass in 25 sequences, then we'd have an input size of `(40, 25)`.\n",
    "\n",
    "If we set our sequence length to 40, what do we do with messages that are more or less than 40 tokens? For messages with fewer than 40 tokens, we will pad the empty spots with zeros. We should be sure to **left** pad so that the RNN starts from nothing before going through the data. If the message has 20 tokens, then the first 20 spots of our 40 long sequence will be 0. If a message has more than 40 tokens, we'll just keep the first 40 tokens."
   ]
  },
  {
   "cell_type": "markdown",
   "metadata": {},
   "source": [
    "### Training and  Validation\n",
    "With our data in nice shape, we'll split it into training and validation sets."
   ]
  },
  {
   "cell_type": "code",
   "execution_count": 22,
   "metadata": {},
   "outputs": [],
   "source": [
    "\"\"\"\n",
    "Split data into training and validation datasets. Use an appropriate split size.\n",
    "The features are the `token_ids` and the labels are the `sentiments`.\n",
    "\"\"\"   \n",
    "\n",
    "split_size = 0.9\n",
    "\n",
    "split_idx = int(len(token_ids)*split_size)\n",
    "train_features = token_ids[:split_idx]\n",
    "valid_features = token_ids[split_idx:]\n",
    "train_labels = sentiments[:split_idx]\n",
    "valid_labels = sentiments[split_idx:]\n"
   ]
  },
  {
   "cell_type": "code",
   "execution_count": null,
   "metadata": {},
   "outputs": [],
   "source": [
    "def dataloader(messages, labels, sequence_length=30, batch_size=32, shuffle=False):\n",
    "    \"\"\" \n",
    "    Build a dataloader.\n",
    "    \"\"\"\n",
    "    if shuffle:\n",
    "        indices = list(range(len(messages)))\n",
    "        random.shuffle(indices)\n",
    "        messages = [messages[idx] for idx in indices]\n",
    "        labels = [labels[idx] for idx in indices]\n",
    "\n",
    "    total_sequences = len(messages)\n",
    "\n",
    "    for ii in range(0, total_sequences, batch_size):\n",
    "        batch_messages = messages[ii: ii+batch_size]\n",
    "        \n",
    "        # First initialize a tensor of all zeros\n",
    "        batch = torch.zeros((sequence_length, len(batch_messages)), dtype=torch.int64)\n",
    "        for batch_num, tokens in enumerate(batch_messages):\n",
    "            token_tensor = torch.tensor(tokens)\n",
    "            # Left pad!\n",
    "            start_idx = max(sequence_length - len(token_tensor), 0)\n",
    "            batch[start_idx:, batch_num] = token_tensor[:sequence_length]\n",
    "            \n",
    "        labels = np.array(labels)\n",
    "        label_tensor = torch.tensor(labels[ii: ii+len(batch_messages)])\n",
    "        yield batch, label_tensor"
   ]
  },
  {
   "cell_type": "markdown",
   "metadata": {},
   "source": [
    "# Load/Save preprocessed data"
   ]
  },
  {
   "cell_type": "code",
   "execution_count": 6,
   "metadata": {},
   "outputs": [],
   "source": [
    "# Load\n",
    "with open('tokenized.pickle', 'rb') as f:\n",
    "    tokenized = pickle.load(f)\n",
    "with open('filtered_words.pickle', 'rb') as f:\n",
    "    filtered_words = pickle.load(f)\n",
    "with open('vocab.pickle', 'rb') as f:\n",
    "    vocab = pickle.load(f)\n",
    "with open('train_features.pickle', 'rb') as f:\n",
    "    train_features = pickle.load(f)\n",
    "with open('valid_features.pickle', 'rb') as f:\n",
    "    valid_features = pickle.load(f)\n",
    "with open('train_labels.pickle', 'rb') as f:\n",
    "    train_labels = pickle.load(f)\n",
    "with open('valid_labels.pickle', 'rb') as f:\n",
    "    valid_labels = pickle.load(f)\n",
    "with open('weights_matrix', 'rb') as f:\n",
    "    weights_matrix = pickle.load(f)\n",
    "\n",
    "# Save\n",
    "\"\"\"\n",
    "with open('weights_matrix', 'wb') as f:\n",
    "    pickle.dump(weights_matrix, f)\n",
    "with open('filtered_words.pickle', 'wb') as f:\n",
    "    pickle.dump(filtered_words, f)\n",
    "with open('vocab.pickle', 'wb') as f:\n",
    "    pickle.dump(vocab, f)\n",
    "with open('train_features.pickle', 'wb') as f:\n",
    "    pickle.dump(train_features, f)\n",
    "with open('valid_features.pickle', 'wb') as f:\n",
    "    pickle.dump(valid_features, f)\n",
    "with open('train_labels.pickle', 'wb') as f:\n",
    "    pickle.dump(train_labels, f)\n",
    "with open('valid_labels.pickle', 'wb') as f:\n",
    "    pickle.dump(valid_labels, f)\n",
    "\"\"\""
   ]
  },
  {
   "cell_type": "markdown",
   "metadata": {},
   "source": [
    "Showing example"
   ]
  },
  {
   "cell_type": "code",
   "execution_count": 26,
   "metadata": {},
   "outputs": [],
   "source": [
    "sequence_length = 15\n",
    "text_batch, labels = next(iter(dataloader(train_features, train_labels, sequence_length=sequence_length, batch_size=64)))\n",
    "batch_size = text_batch.size()[-1]\n",
    "model = TextClassifier(len(vocab)+1, 200, 64, 5, dropout=0., bidirectional=False)\n",
    "hidden = model.init_hidden(64)\n",
    "if train_on_gpu:\n",
    "    model = model.cuda()\n",
    "    hidden = hidden.cuda()\n",
    "    text_batch = text_batch.cuda()\n",
    "logps, hidden = model(text_batch, hidden)\n"
   ]
  },
  {
   "cell_type": "markdown",
   "metadata": {},
   "source": [
    "### Training\n",
    "It's time to train the neural network!"
   ]
  },
  {
   "cell_type": "code",
   "execution_count": 31,
   "metadata": {},
   "outputs": [
    {
     "data": {
      "text/plain": [
       "TextClassifier(\n",
       "  (embedding): Embedding(28957, 100)\n",
       "  (dropout): Dropout(p=0.2)\n",
       "  (gru): GRU(100, 256, num_layers=2)\n",
       "  (fc): Linear(in_features=256, out_features=5, bias=True)\n",
       "  (bn): BatchNorm1d(256, eps=1e-05, momentum=0.1, affine=True, track_running_stats=True)\n",
       "  (log_softmax): LogSoftmax()\n",
       ")"
      ]
     },
     "execution_count": 31,
     "metadata": {},
     "output_type": "execute_result"
    }
   ],
   "source": [
    "device = torch.device(\"cuda\" if torch.cuda.is_available() else \"cpu\")\n",
    "vocab_size = len(vocab)+1\n",
    "embed_size = 500\n",
    "lstm_size = 256\n",
    "output_size = 5\n",
    "lstm_layers = 2\n",
    "dropout = 0.2\n",
    "bidirectional = False\n",
    "batch_size = 256\n",
    "sequence_length = 30\n",
    "\n",
    "model = TextClassifier(vocab_size, embed_size, lstm_size, output_size,\n",
    "                       lstm_layers=lstm_layers, dropout=dropout, bidirectional=bidirectional)\n",
    "model.embedding.weight.data.uniform_(-1, 1)\n",
    "model.to(device)"
   ]
  },
  {
   "cell_type": "code",
   "execution_count": 32,
   "metadata": {
    "scrolled": false
   },
   "outputs": [
    {
     "name": "stdout",
     "output_type": "stream",
     "text": [
      "Starting epoch 1\n"
     ]
    },
    {
     "name": "stderr",
     "output_type": "stream",
     "text": [
      "/opt/conda/lib/python3.6/site-packages/torch/serialization.py:193: UserWarning: Couldn't retrieve source code for container of type TextClassifier. It won't be checked for correctness upon loading.\n",
      "  \"type \" + obj.__name__ + \". It won't be checked \"\n"
     ]
    },
    {
     "name": "stdout",
     "output_type": "stream",
     "text": [
      "Epoch: 1/2... Step: 100... Loss: 1.275868... Val Loss: 1.278801... Val Accuracy: 0.474701\n",
      "Epoch: 1/2... Step: 200... Loss: 1.063151... Val Loss: 1.153116... Val Accuracy: 0.538108\n",
      "Epoch: 1/2... Step: 300... Loss: 1.073083... Val Loss: 1.081537... Val Accuracy: 0.579051\n",
      "Epoch: 1/2... Step: 400... Loss: 0.881566... Val Loss: 1.005686... Val Accuracy: 0.606539\n",
      "Epoch: 1/2... Step: 500... Loss: 0.853084... Val Loss: 0.965131... Val Accuracy: 0.626302\n",
      "Epoch: 1/2... Step: 600... Loss: 0.910250... Val Loss: 0.950454... Val Accuracy: 0.626871\n",
      "Epoch: 1/2... Step: 700... Loss: 0.833750... Val Loss: 0.913231... Val Accuracy: 0.646943\n",
      "Epoch: 1/2... Step: 800... Loss: 0.823990... Val Loss: 0.890652... Val Accuracy: 0.662269\n",
      "Epoch: 1/2... Step: 900... Loss: 0.824825... Val Loss: 0.862991... Val Accuracy: 0.672251\n",
      "Epoch: 1/2... Step: 1000... Loss: 0.845440... Val Loss: 0.851416... Val Accuracy: 0.681684\n",
      "Epoch: 1/2... Step: 1100... Loss: 0.830605... Val Loss: 0.841420... Val Accuracy: 0.686073\n",
      "Epoch: 1/2... Step: 1200... Loss: 0.832166... Val Loss: 0.842845... Val Accuracy: 0.684115\n",
      "Epoch: 1/2... Step: 1300... Loss: 0.807218... Val Loss: 0.823866... Val Accuracy: 0.686699\n",
      "Epoch: 1/2... Step: 1400... Loss: 0.676739... Val Loss: 0.814492... Val Accuracy: 0.695428\n",
      "Epoch: 1/2... Step: 1500... Loss: 0.804307... Val Loss: 0.801230... Val Accuracy: 0.702276\n",
      "Epoch: 1/2... Step: 1600... Loss: 0.687140... Val Loss: 0.797980... Val Accuracy: 0.700849\n",
      "Epoch: 1/2... Step: 1700... Loss: 0.796539... Val Loss: 0.799680... Val Accuracy: 0.697598\n",
      "Epoch: 1/2... Step: 1800... Loss: 0.767549... Val Loss: 0.784923... Val Accuracy: 0.708353\n",
      "Epoch: 1/2... Step: 1900... Loss: 0.628875... Val Loss: 0.787020... Val Accuracy: 0.707340\n",
      "Epoch: 1/2... Step: 2000... Loss: 0.656256... Val Loss: 0.777907... Val Accuracy: 0.710706\n",
      "Epoch: 1/2... Step: 2100... Loss: 0.774929... Val Loss: 0.776450... Val Accuracy: 0.710426\n",
      "Epoch: 1/2... Step: 2200... Loss: 0.759562... Val Loss: 0.775115... Val Accuracy: 0.708372\n",
      "Epoch: 1/2... Step: 2300... Loss: 0.723797... Val Loss: 0.769758... Val Accuracy: 0.714111\n",
      "Epoch: 1/2... Step: 2400... Loss: 0.735562... Val Loss: 0.766197... Val Accuracy: 0.714535\n",
      "Epoch: 1/2... Step: 2500... Loss: 0.661780... Val Loss: 0.764544... Val Accuracy: 0.715905\n",
      "Epoch: 1/2... Step: 2600... Loss: 0.728697... Val Loss: 0.770763... Val Accuracy: 0.712423\n",
      "Epoch: 1/2... Step: 2700... Loss: 0.760447... Val Loss: 0.762871... Val Accuracy: 0.716242\n",
      "Epoch: 1/2... Step: 2800... Loss: 0.772323... Val Loss: 0.755167... Val Accuracy: 0.719686\n",
      "Epoch: 1/2... Step: 2900... Loss: 0.632986... Val Loss: 0.757431... Val Accuracy: 0.716966\n",
      "Epoch: 1/2... Step: 3000... Loss: 0.701778... Val Loss: 0.747027... Val Accuracy: 0.723910\n",
      "Epoch: 1/2... Step: 3100... Loss: 0.638230... Val Loss: 0.746891... Val Accuracy: 0.720949\n",
      "Epoch: 1/2... Step: 3200... Loss: 0.648060... Val Loss: 0.753155... Val Accuracy: 0.718789\n",
      "Epoch: 1/2... Step: 3300... Loss: 0.803713... Val Loss: 0.747204... Val Accuracy: 0.719416\n",
      "Epoch: 1/2... Step: 3400... Loss: 0.731995... Val Loss: 0.755498... Val Accuracy: 0.717400\n",
      "Epoch: 1/2... Step: 3500... Loss: 0.668487... Val Loss: 0.751522... Val Accuracy: 0.713426\n",
      "Epoch: 1/2... Step: 3600... Loss: 0.651214... Val Loss: 0.743107... Val Accuracy: 0.716136\n",
      "Starting epoch 2\n",
      "Epoch: 2/2... Step: 100... Loss: 0.731201... Val Loss: 0.739837... Val Accuracy: 0.724084\n",
      "Epoch: 2/2... Step: 200... Loss: 0.729395... Val Loss: 0.746781... Val Accuracy: 0.718123\n",
      "Epoch: 2/2... Step: 300... Loss: 0.674043... Val Loss: 0.740574... Val Accuracy: 0.723167\n",
      "Epoch: 2/2... Step: 400... Loss: 0.714800... Val Loss: 0.739431... Val Accuracy: 0.724074\n",
      "Epoch: 2/2... Step: 500... Loss: 0.725957... Val Loss: 0.742437... Val Accuracy: 0.721663\n",
      "Epoch: 2/2... Step: 600... Loss: 0.679376... Val Loss: 0.742177... Val Accuracy: 0.721586\n",
      "Epoch: 2/2... Step: 700... Loss: 0.719087... Val Loss: 0.741360... Val Accuracy: 0.724074\n",
      "Epoch: 2/2... Step: 800... Loss: 0.725001... Val Loss: 0.739944... Val Accuracy: 0.724489\n",
      "Epoch: 2/2... Step: 900... Loss: 0.675706... Val Loss: 0.743769... Val Accuracy: 0.724142\n",
      "Epoch: 2/2... Step: 1000... Loss: 0.651499... Val Loss: 0.739033... Val Accuracy: 0.717882\n",
      "Epoch: 2/2... Step: 1100... Loss: 0.675688... Val Loss: 0.732691... Val Accuracy: 0.725617\n",
      "Epoch: 2/2... Step: 1200... Loss: 0.656796... Val Loss: 0.733033... Val Accuracy: 0.724576\n",
      "Epoch: 2/2... Step: 1300... Loss: 0.633741... Val Loss: 0.735746... Val Accuracy: 0.725444\n",
      "Epoch: 2/2... Step: 1400... Loss: 0.643036... Val Loss: 0.736100... Val Accuracy: 0.726071\n",
      "Epoch: 2/2... Step: 1500... Loss: 0.665155... Val Loss: 0.735583... Val Accuracy: 0.724277\n",
      "Epoch: 2/2... Step: 1600... Loss: 0.651085... Val Loss: 0.730580... Val Accuracy: 0.727739\n",
      "Epoch: 2/2... Step: 1700... Loss: 0.674823... Val Loss: 0.728231... Val Accuracy: 0.727556\n",
      "Epoch: 2/2... Step: 1800... Loss: 0.745467... Val Loss: 0.726919... Val Accuracy: 0.725540\n",
      "Epoch: 2/2... Step: 1900... Loss: 0.592243... Val Loss: 0.738408... Val Accuracy: 0.726138\n",
      "Epoch: 2/2... Step: 2000... Loss: 0.582877... Val Loss: 0.725942... Val Accuracy: 0.727074\n",
      "Epoch: 2/2... Step: 2100... Loss: 0.732228... Val Loss: 0.727856... Val Accuracy: 0.724334\n",
      "Epoch: 2/2... Step: 2200... Loss: 0.681513... Val Loss: 0.725017... Val Accuracy: 0.727363\n",
      "Epoch: 2/2... Step: 2300... Loss: 0.605741... Val Loss: 0.725161... Val Accuracy: 0.728463\n",
      "Epoch: 2/2... Step: 2400... Loss: 0.600471... Val Loss: 0.730924... Val Accuracy: 0.725791\n",
      "Epoch: 2/2... Step: 2500... Loss: 0.713181... Val Loss: 0.732181... Val Accuracy: 0.721933\n",
      "Epoch: 2/2... Step: 2600... Loss: 0.729732... Val Loss: 0.724168... Val Accuracy: 0.723679\n",
      "Epoch: 2/2... Step: 2700... Loss: 0.773103... Val Loss: 0.722081... Val Accuracy: 0.730430\n",
      "Epoch: 2/2... Step: 2800... Loss: 0.676502... Val Loss: 0.718148... Val Accuracy: 0.730179\n",
      "Epoch: 2/2... Step: 2900... Loss: 0.552171... Val Loss: 0.719945... Val Accuracy: 0.728569\n",
      "Epoch: 2/2... Step: 3000... Loss: 0.654484... Val Loss: 0.725126... Val Accuracy: 0.723052\n",
      "Epoch: 2/2... Step: 3100... Loss: 0.684651... Val Loss: 0.722817... Val Accuracy: 0.729504\n",
      "Epoch: 2/2... Step: 3200... Loss: 0.735695... Val Loss: 0.723703... Val Accuracy: 0.726302\n",
      "Epoch: 2/2... Step: 3300... Loss: 0.707282... Val Loss: 0.716708... Val Accuracy: 0.729909\n",
      "Epoch: 2/2... Step: 3400... Loss: 0.687497... Val Loss: 0.716419... Val Accuracy: 0.730208\n",
      "Epoch: 2/2... Step: 3500... Loss: 0.734111... Val Loss: 0.719588... Val Accuracy: 0.729282\n",
      "Epoch: 2/2... Step: 3600... Loss: 0.652887... Val Loss: 0.717967... Val Accuracy: 0.728356\n"
     ]
    }
   ],
   "source": [
    "\"\"\"\n",
    "Train your model with dropout. Make sure to clip your gradients.\n",
    "Print the training loss, validation loss, and validation accuracy for every 100 steps.\n",
    "\"\"\"\n",
    "\n",
    "epochs = 2\n",
    "learning_rate = 0.001\n",
    "clip = 3\n",
    "\n",
    "\n",
    "print_every = 100\n",
    "criterion = nn.NLLLoss()\n",
    "optimizer = optim.Adam(model.parameters(), lr=learning_rate, amsgrad=True, betas=(0.9,0.999))\n",
    "\n",
    "val_loss_min = np.inf\n",
    "\n",
    "model.train()\n",
    "\n",
    "for epoch in range(epochs):\n",
    "    print('Starting epoch {}'.format(epoch + 1))\n",
    "    \n",
    "    steps = 0\n",
    "    hidden = model.init_hidden(batch_size)\n",
    "    for text_batch, labels in dataloader(\n",
    "            train_features, train_labels, batch_size=batch_size, sequence_length=sequence_length, shuffle=True):\n",
    "        if text_batch.size() != torch.Size([sequence_length, batch_size]):\n",
    "            continue\n",
    "        steps +=1\n",
    "        \n",
    "        # Set Device\n",
    "        text_batch, labels = text_batch.to(device), labels.to(device)\n",
    "        hidden = hidden.data.to(device)\n",
    "\n",
    "        model.zero_grad()\n",
    "\n",
    "        output, hidden = model(text_batch, hidden)\n",
    "        loss = criterion(output, labels)\n",
    "        loss.backward()\n",
    "\n",
    "        nn.utils.clip_grad_norm_(model.parameters(), clip)\n",
    "        optimizer.step()\n",
    "\n",
    "\n",
    "        if steps % print_every == 0:\n",
    "            model.eval()\n",
    "            val_h = model.init_hidden(batch_size)\n",
    "            val_losses = []\n",
    "            val_accuracy = []\n",
    "\n",
    "            for inputs, val_labels in dataloader(\n",
    "                valid_features, valid_labels, batch_size=batch_size, sequence_length=sequence_length):\n",
    "                if inputs.size() != torch.Size([sequence_length, batch_size]):\n",
    "                    continue\n",
    "                val_h = val_h.data.to(device)\n",
    "        \n",
    "                inputs, val_labels = inputs.to(device), val_labels.to(device)\n",
    "                output, val_h = model(inputs, val_h)\n",
    "                val_loss = criterion(output, val_labels)\n",
    "                if val_loss.item() < val_loss_min:\n",
    "                    val_loss_min = val_loss\n",
    "                    #print('save model...')\n",
    "                    torch.save(model, 'model.pt')\n",
    "                val_losses.append(val_loss.item())\n",
    "                \n",
    "                val_ps = torch.exp(output)\n",
    "                top_p, top_class = val_ps.topk(1, dim=1)\n",
    "                equals = top_class == val_labels.view(*top_class.shape)\n",
    "                val_accuracy.append(torch.mean(equals.type(torch.FloatTensor)).item())\n",
    "\n",
    "            model.train()\n",
    "            this_val_acc = sum(val_accuracy)/len(val_accuracy)\n",
    "            \n",
    "            print(\"Epoch: {}/{}...\".format(epoch+1, epochs),\n",
    "                      \"Step: {}...\".format(steps),\n",
    "                      \"Loss: {:.6f}...\".format(loss.item()),\n",
    "                      \"Val Loss: {:.6f}...\".format(np.mean(val_losses)),\n",
    "                     \"Val Accuracy: {:6f}\".format(this_val_acc))"
   ]
  },
  {
   "cell_type": "markdown",
   "metadata": {},
   "source": [
    "## Making Predictions\n",
    "### Prediction \n",
    "Okay, now that you have a trained model, try it on some new twits and see if it works appropriately. Remember that for any new text, you'll need to preprocess it first before passing it to the network. Implement the `predict` function to generate the prediction vector from a message."
   ]
  },
  {
   "cell_type": "code",
   "execution_count": 16,
   "metadata": {},
   "outputs": [],
   "source": [
    "def predict(text, model, vocab):\n",
    "    \"\"\" \n",
    "    Make a prediction on a single sentence.\n",
    "\n",
    "    Parameters\n",
    "    ----------\n",
    "        text : The string to make a prediction on.\n",
    "        model : The model to use for making the prediction.\n",
    "        vocab : Dictionary for word to word ids. The key is the word and the value is the word id.\n",
    "\n",
    "    Returns\n",
    "    -------\n",
    "        pred : Prediction vector\n",
    "    \"\"\" \n",
    "    \n",
    "    tokens = preprocess(text)\n",
    "    \n",
    "    # Filter non-vocab words\n",
    "    tokens = [word for word in tokens if word in filtered_words]\n",
    "    # Convert words to ids\n",
    "    tokens = [vocab[word] for word in tokens]\n",
    "        \n",
    "    # Adding a batch dimension\n",
    "    text_input = torch.tensor(tokens).unsqueeze(1).to('cpu')\n",
    "    # Get the NN output\n",
    "    hidden = model.init_hidden(text_input.size(1)).to('cpu')\n",
    "    logps, _ = model(text_input, hidden)\n",
    "    # Take the exponent of the NN output to get a range of 0 to 1 for each label.\n",
    "    pred = torch.exp(logps)\n",
    "    \n",
    "    return pred.detach().numpy()"
   ]
  },
  {
   "cell_type": "markdown",
   "metadata": {},
   "source": [
    "### Questions: What is the prediction of the model? What is the uncertainty of the prediction?"
   ]
  },
  {
   "cell_type": "code",
   "execution_count": null,
   "metadata": {},
   "outputs": [],
   "source": [
    "text = \"Google is working on self driving cars, I'm bullish on $goog\"\n",
    "model.eval()\n",
    "model.to(\"cpu\")\n",
    "pred = predict(text, model, vocab)"
   ]
  },
  {
   "cell_type": "code",
   "execution_count": 18,
   "metadata": {},
   "outputs": [
    {
     "name": "stdout",
     "output_type": "stream",
     "text": [
      "Class 1 is the most probable class with a likelihood of 76.66%\n"
     ]
    }
   ],
   "source": [
    "print(\"Class {} is the most probable class with a likelihood of {:.2f}%\".format(np.argmax(pred)-2, np.max(pred)*100))"
   ]
  },
  {
   "cell_type": "markdown",
   "metadata": {},
   "source": [
    "Now we have a trained model and we can make predictions. We can use this model to track the sentiments of various stocks by predicting the sentiments of twits as they are coming in. Now we have a stream of twits. For each of those twits, pull out the stocks mentioned in them and keep track of the sentiments. Remember that in the twits, ticker symbols are encoded with a dollar sign as the first character, all caps, and 2-4 letters, like $AAPL. Ideally, you'd want to track the sentiments of the stocks in your universe and use this as a signal in your larger model(s).\n",
    "\n",
    "## Testing\n",
    "### Load the Data "
   ]
  },
  {
   "cell_type": "code",
   "execution_count": 9,
   "metadata": {},
   "outputs": [],
   "source": [
    "with open(os.path.join('test_twits.json'), 'r') as f:\n",
    "    test_data = json.load(f)"
   ]
  },
  {
   "cell_type": "markdown",
   "metadata": {},
   "source": [
    "### Twit Stream"
   ]
  },
  {
   "cell_type": "code",
   "execution_count": 20,
   "metadata": {},
   "outputs": [
    {
     "data": {
      "text/plain": [
       "{'message_body': '$JWN has moved -1.69% on 10-31. Check out the movement and peers at  https://dividendbot.com?s=JWN',\n",
       " 'timestamp': '2018-11-01T00:00:05Z'}"
      ]
     },
     "execution_count": 20,
     "metadata": {},
     "output_type": "execute_result"
    }
   ],
   "source": [
    "def twit_stream():\n",
    "    for twit in test_data['data']:\n",
    "        yield twit\n",
    "\n",
    "next(twit_stream())"
   ]
  },
  {
   "cell_type": "markdown",
   "metadata": {},
   "source": [
    "Using the `prediction` function, let's apply it to a stream of twits."
   ]
  },
  {
   "cell_type": "code",
   "execution_count": 21,
   "metadata": {},
   "outputs": [],
   "source": [
    "def score_twits(stream, model, vocab, universe):\n",
    "    \"\"\" \n",
    "    Given a stream of twits and a universe of tickers, return sentiment scores for tickers in the universe.\n",
    "    \"\"\"\n",
    "    for twit in stream:\n",
    "\n",
    "        # Get the message text\n",
    "        text = twit['message_body']\n",
    "        symbols = re.findall('\\$[A-Z]{2,4}', text)\n",
    "        tokens = preprocess(text)\n",
    "        tokens = [word for word in tokens if word in filtered_words]\n",
    "        if len(tokens) > 0:\n",
    "            #print(text)\n",
    "            score = predict(text, model, vocab)\n",
    "\n",
    "            for symbol in symbols:\n",
    "                if symbol in universe:\n",
    "                    \n",
    "                    yield {'text': text, 'symbol': symbol, 'score': score, 'timestamp': twit['timestamp'], 'sentiment': np.arange(0,5)[np.argmax(score)]}"
   ]
  },
  {
   "cell_type": "code",
   "execution_count": 22,
   "metadata": {},
   "outputs": [
    {
     "data": {
      "text/plain": [
       "{'text': '$AAPL 190 after ER',\n",
       " 'symbol': '$AAPL',\n",
       " 'score': array([[ 0.15485731,  0.16452152,  0.18032193,  0.14882466,  0.35147461]], dtype=float32),\n",
       " 'timestamp': '2018-11-01T00:00:18Z',\n",
       " 'sentiment': 4}"
      ]
     },
     "execution_count": 22,
     "metadata": {},
     "output_type": "execute_result"
    }
   ],
   "source": [
    "universe = {'$BBRY', '$AAPL', '$AMZN', '$BABA', '$YHOO', '$LQMT', '$FB', '$GOOG', '$BBBY', '$JNUG', '$SBUX', '$MU'}\n",
    "score_stream = score_twits(twit_stream(), model, vocab, universe)\n",
    "\n",
    "next(score_stream)"
   ]
  },
  {
   "cell_type": "code",
   "execution_count": 23,
   "metadata": {},
   "outputs": [
    {
     "data": {
      "text/plain": [
       "{'text': '$AMZN A lot of technical signs point to a short-term bottom in place for stocks (John Murphy)',\n",
       " 'symbol': '$AMZN',\n",
       " 'score': array([[  3.03409062e-04,   3.74427512e-02,   3.36010493e-02,\n",
       "           9.09555435e-01,   1.90973319e-02]], dtype=float32),\n",
       " 'timestamp': '2018-11-01T00:00:42Z',\n",
       " 'sentiment': 3}"
      ]
     },
     "execution_count": 23,
     "metadata": {},
     "output_type": "execute_result"
    }
   ],
   "source": [
    "next(score_stream)"
   ]
  },
  {
   "cell_type": "code",
   "execution_count": 24,
   "metadata": {},
   "outputs": [
    {
     "data": {
      "text/plain": [
       "{'text': 'Long Only: $BAC, $CGC, and $EXTR.\\nLong &amp; Puts: $IQ.\\nShort: $MU, $AMD, and $NVDA.',\n",
       " 'symbol': '$MU',\n",
       " 'score': array([[ 0.02309324,  0.16099609,  0.05883843,  0.15040793,  0.6066643 ]], dtype=float32),\n",
       " 'timestamp': '2018-11-01T00:02:10Z',\n",
       " 'sentiment': 4}"
      ]
     },
     "execution_count": 24,
     "metadata": {},
     "output_type": "execute_result"
    }
   ],
   "source": [
    "next(score_stream)"
   ]
  },
  {
   "cell_type": "code",
   "execution_count": 25,
   "metadata": {},
   "outputs": [
    {
     "data": {
      "text/plain": [
       "{'text': '$AMZN Like what i see here',\n",
       " 'symbol': '$AMZN',\n",
       " 'score': array([[ 0.06128268,  0.12226567,  0.44065145,  0.29710418,  0.07869604]], dtype=float32),\n",
       " 'timestamp': '2018-11-01T00:03:35Z',\n",
       " 'sentiment': 2}"
      ]
     },
     "execution_count": 25,
     "metadata": {},
     "output_type": "execute_result"
    }
   ],
   "source": [
    "next(score_stream)"
   ]
  },
  {
   "cell_type": "code",
   "execution_count": 26,
   "metadata": {},
   "outputs": [
    {
     "data": {
      "text/plain": [
       "{'text': '@TraderLeibniz $NVDA Perhaps, no chance for $MU and $AMD till cycle &amp; trade war no longer concerns.... played these names for years. GL',\n",
       " 'symbol': '$MU',\n",
       " 'score': array([[ 0.2873998 ,  0.2912277 ,  0.11499511,  0.26970211,  0.03667523]], dtype=float32),\n",
       " 'timestamp': '2018-11-01T00:04:21Z',\n",
       " 'sentiment': 1}"
      ]
     },
     "execution_count": 26,
     "metadata": {},
     "output_type": "execute_result"
    }
   ],
   "source": [
    "next(score_stream)"
   ]
  },
  {
   "cell_type": "markdown",
   "metadata": {},
   "source": [
    "That's it. You have successfully built a model for sentiment analysis! "
   ]
  }
 ],
 "metadata": {
  "kernelspec": {
   "display_name": "Python 3",
   "language": "python",
   "name": "python3"
  },
  "language_info": {
   "codemirror_mode": {
    "name": "ipython",
    "version": 3
   },
   "file_extension": ".py",
   "mimetype": "text/x-python",
   "name": "python",
   "nbconvert_exporter": "python",
   "pygments_lexer": "ipython3",
   "version": "3.6.3"
  }
 },
 "nbformat": 4,
 "nbformat_minor": 2
}
